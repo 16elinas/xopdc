{
 "cells": [
  {
   "cell_type": "code",
   "execution_count": 2,
   "metadata": {},
   "outputs": [],
   "source": [
    "using NPZ\n",
    "using Interpolations\n",
    "using Cubature\n",
    "using PyCall\n",
    "using LinearAlgebra\n",
    "using BenchmarkTools\n",
    "using PyPlot"
   ]
  },
  {
   "cell_type": "code",
   "execution_count": null,
   "metadata": {},
   "outputs": [],
   "source": [
    "ωp = 1e19\n",
    "gvec = g * [1,0,0] # in the X direction as required by the dΓdωsdΩ functions\n",
    "g = 3.1e10 #being approximate here\n",
    "c = 3e8\n",
    "\n",
    "θB = asin(g*c/(2*ωp))\n",
    "χ = 2e-17\n",
    "np = 1e20\n",
    "# a = 0.5e-6 #PhC lattice spacing\n",
    "a = 0.5e-6 # free space lattice spacing.... get more accurate modes??\n",
    "L = 1e-3 #1mm where period is micron scale sounds reasonable\n",
    "\n",
    "θdev = 0.001\n",
    "ϕdev = 0.0025\n",
    "\n",
    "function dΓdωs(ωs, ωp, θp, ϕp, np, L, ϵ, g)\n",
    "    kp = ωp/c\n",
    "    ks = ωs/c\n",
    "    \n",
    "    g = gvec[1] #assuming in the x direction\n",
    "    \n",
    "\n",
    "    kix = -ks*sin(θs)*cos(ϕs) - kp*sin(θp) + g\n",
    "    kiy = -ks*sin(θs)*sin(ϕs)\n",
    "    kiz = -ks*cos(θs) + kp*cos(θp)\n",
    "\n",
    "    kivec = [kix, kiy, kiz]\n",
    "    \n",
    "    ki = norm(kivec)\n",
    "    ωi = c*ki/sqrt(ϵbg)\n",
    "    \n",
    "end"
   ]
  }
 ],
 "metadata": {
  "kernelspec": {
   "display_name": "Julia 10 threads 1.5.3",
   "language": "julia",
   "name": "julia-10-threads-1.5"
  },
  "language_info": {
   "file_extension": ".jl",
   "mimetype": "application/julia",
   "name": "julia",
   "version": "1.5.3"
  }
 },
 "nbformat": 4,
 "nbformat_minor": 4
}
